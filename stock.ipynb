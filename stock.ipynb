{
 "cells": [
  {
   "cell_type": "code",
   "execution_count": 1,
   "id": "7f89dfae",
   "metadata": {},
   "outputs": [],
   "source": [
    "#!pip install BeautifulSoup4\n",
    "#!pip install requests\n",
    "import requests\n",
    "from bs4 import BeautifulSoup"
   ]
  },
  {
   "cell_type": "code",
   "execution_count": 2,
   "id": "7ffa35a5",
   "metadata": {},
   "outputs": [
    {
     "name": "stderr",
     "output_type": "stream",
     "text": [
      "C:\\Users\\apil xetri\\AppData\\Local\\Temp\\ipykernel_11812\\3154351183.py:1: MarkupResemblesLocatorWarning: The input looks more like a URL than markup. You may want to use an HTTP client like requests to get the document behind the URL, and feed that document to Beautiful Soup.\n",
      "  url=BeautifulSoup('https://www.sharesansar.com/mutual-fund-navs','html.parser')\n"
     ]
    }
   ],
   "source": [
    "url=BeautifulSoup('https://www.sharesansar.com/mutual-fund-navs','html.parser')\n",
    "r=requests.get(url)\n",
    "#r"
   ]
  },
  {
   "cell_type": "code",
   "execution_count": 3,
   "id": "3cfe7034",
   "metadata": {},
   "outputs": [],
   "source": [
    "htmlcontent=r.text #get all html code and store it into htmlcontent \n",
    "# htmlcontent"
   ]
  },
  {
   "cell_type": "code",
   "execution_count": 4,
   "id": "5f713354",
   "metadata": {
    "scrolled": false
   },
   "outputs": [],
   "source": [
    "htmlcontent=BeautifulSoup(htmlcontent,\"lxml\")\n",
    "# print(htmlcontent.prettify)"
   ]
  },
  {
   "cell_type": "code",
   "execution_count": 5,
   "id": "300cbc02",
   "metadata": {},
   "outputs": [
    {
     "data": {
      "text/plain": [
       "<table class=\"table table-hover table-striped table-bordered compact\" id=\"myTableC\">\n",
       "<thead class=\"bg-danger\">\n",
       "</thead>\n",
       "<tbody>\n",
       "</tbody>\n",
       "</table>"
      ]
     },
     "execution_count": 5,
     "metadata": {},
     "output_type": "execute_result"
    }
   ],
   "source": [
    "soup=htmlcontent.table\n",
    "soup\n"
   ]
  },
  {
   "cell_type": "code",
   "execution_count": 6,
   "id": "9397ca32",
   "metadata": {},
   "outputs": [
    {
     "data": {
      "text/plain": [
       "[]"
      ]
     },
     "execution_count": 6,
     "metadata": {},
     "output_type": "execute_result"
    }
   ],
   "source": [
    "find_row=soup.find_all('tr')\n",
    "find_row"
   ]
  }
 ],
 "metadata": {
  "kernelspec": {
   "display_name": "Python 3 (ipykernel)",
   "language": "python",
   "name": "python3"
  },
  "language_info": {
   "codemirror_mode": {
    "name": "ipython",
    "version": 3
   },
   "file_extension": ".py",
   "mimetype": "text/x-python",
   "name": "python",
   "nbconvert_exporter": "python",
   "pygments_lexer": "ipython3",
   "version": "3.11.2"
  }
 },
 "nbformat": 4,
 "nbformat_minor": 5
}
